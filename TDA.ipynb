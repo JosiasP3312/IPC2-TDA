{
  "nbformat": 4,
  "nbformat_minor": 0,
  "metadata": {
    "colab": {
      "name": "TDA.ipynb",
      "provenance": [],
      "collapsed_sections": [],
      "authorship_tag": "ABX9TyMYx1pQMZIpp8IDToCxod0e",
      "include_colab_link": true
    },
    "kernelspec": {
      "name": "python3",
      "display_name": "Python 3"
    }
  },
  "cells": [
    {
      "cell_type": "markdown",
      "metadata": {
        "id": "view-in-github",
        "colab_type": "text"
      },
      "source": [
        "<a href=\"https://colab.research.google.com/github/JosiasP3312/IPC2-TDA/blob/main/TDA.ipynb\" target=\"_parent\"><img src=\"https://colab.research.google.com/assets/colab-badge.svg\" alt=\"Open In Colab\"/></a>"
      ]
    },
    {
      "cell_type": "markdown",
      "metadata": {
        "id": "bVLhMTySfnex"
      },
      "source": [
        "**Ejercicio de Listas Enlazadas**\r\n"
      ]
    },
    {
      "cell_type": "code",
      "metadata": {
        "id": "G6K_Pn8Mf0gj"
      },
      "source": [
        "class cliente:\r\n",
        "  def __init__(self,nombre,no_habitacion):\r\n",
        "    self.nombre = nombre\r\n",
        "    self.no_habitacion = no_habitacion"
      ],
      "execution_count": 4,
      "outputs": []
    },
    {
      "cell_type": "code",
      "metadata": {
        "id": "TqsWFmESiwu8"
      },
      "source": [
        "class node:\r\n",
        "  def __init__(self, cliente=None, next=None):\r\n",
        "    self.cliente = cliente\r\n",
        "    self.next=next"
      ],
      "execution_count": null,
      "outputs": []
    },
    {
      "cell_type": "code",
      "metadata": {
        "id": "3lrIlY0NjL3c"
      },
      "source": [
        "class linked_list:\r\n",
        "  def __init__(self):\r\n",
        "    self.head = None\r\n",
        "  \r\n",
        "  def insertar(self,cliente):\r\n",
        "    if not self.head:\r\n",
        "      self.head = node(cliente=cliente)\r\n",
        "      return\r\n",
        "    current = self.head\r\n",
        "    while current.next:\r\n",
        "      current = current.next\r\n",
        "    current.next = node(cliente=cliente)\r\n",
        "\r\n",
        "  def imprimir(self):\r\n",
        "    node=self.head\r\n",
        "    while node != None:\r\n",
        "      print(node.cliente.nombre, end=\"=>\")\r\n",
        "      node=node.next\r\n",
        "\r\n",
        "  def eliminar(self, no_habitacion):\r\n",
        "    current = self.head\r\n",
        "    previous= None\r\n",
        "\r\n",
        "    while current and current.cliente.no_habitacion != no_habitacion:\r\n",
        "      previous = current\r\n",
        "      current = current.next\r\n",
        "    if previous is None:\r\n",
        "      self.head = current.next\r\n",
        "    elif current:\r\n",
        "      previous.next = current.next\r\n",
        "      current.next = None"
      ],
      "execution_count": null,
      "outputs": []
    },
    {
      "cell_type": "code",
      "metadata": {
        "id": "7bf2tu34hYUt"
      },
      "source": [
        "c1=cliente(\"EStuardo Zapeta\",101)\r\n",
        "c2=cliente(\"Marco López\",103)\r\n",
        "c3=cliente(\"Josue Armas\",204)\r\n",
        "c4=cliente(\"Gladys Olmos\",302)"
      ],
      "execution_count": null,
      "outputs": []
    },
    {
      "cell_type": "code",
      "metadata": {
        "id": "ztLQjMpghv0b"
      },
      "source": [
        "lista=linked_list()\r\n",
        "lista.insertar(c1)\r\n",
        "lista.insertar(c2)\r\n",
        "lista.insertar(c3)\r\n",
        "lista.insertar(c4)"
      ],
      "execution_count": null,
      "outputs": []
    },
    {
      "cell_type": "code",
      "metadata": {
        "colab": {
          "base_uri": "https://localhost:8080/"
        },
        "id": "ZqXL-FsYmLT9",
        "outputId": "af8e616a-5f76-4553-d32a-12d343caf5c4"
      },
      "source": [
        "lista.imprimir()"
      ],
      "execution_count": null,
      "outputs": [
        {
          "output_type": "stream",
          "text": [
            "EStuardo Zapeta=>Marco López=>Gladys Olmos=>"
          ],
          "name": "stdout"
        }
      ]
    },
    {
      "cell_type": "code",
      "metadata": {
        "id": "G18uELO2mRV8"
      },
      "source": [
        "lista.eliminar(204)"
      ],
      "execution_count": null,
      "outputs": []
    },
    {
      "cell_type": "markdown",
      "metadata": {
        "id": "x3Yt9r0noev9"
      },
      "source": [
        "**Ejercicio de listas circulares**"
      ]
    },
    {
      "cell_type": "code",
      "metadata": {
        "id": "jO_8Hthponj1"
      },
      "source": [
        "class linked_list_circular:\r\n",
        "  def __init__(self, head=None):\r\n",
        "    self.head = head\r\n",
        "    self.size  = 0\r\n",
        "\r\n",
        "  def insertar(self, pasition, prev=False):\r\n",
        "    if self.size=0:\r\n",
        "      self.head = node(cliente=cliente)\r\n",
        "      self.head.next = self.head\r\n",
        "    else:\r\n",
        "      new_node = node(cliente=cliente, next = self.head.next)\r\n",
        "      self.head.next = new_node\r\n",
        "    self.size +=1\r\n",
        "\r\n",
        "  def imprimir(self):\r\n",
        "    if self.head is None:\r\n",
        "      return\r\n",
        "    node = sel.head\r\n",
        "    print(node.cliente.nombre, end = \" => \")\r\n",
        "    while node.next != self.head:\r\n",
        "      node = node.next\r\n",
        "      print(node.cliente.nombre, end = \" => \")\r\n",
        "\r\n",
        "  def eliminar(self,no_habitacion):\r\n",
        "    node = self.head\r\n",
        "    previous = None\r\n",
        "    \r\n",
        "    while True:\r\n",
        "      if node.cliente.no_habitacion == no_habitacion:\r\n",
        "        if previous is not None:\r\n",
        "          previous.next = node.next\r\n",
        "        else:\r\n",
        "          while node.next != self.head:\r\n",
        "              node = node.next\r\n",
        "            node.next = self.head.next\r\n",
        "            self.head = self.head.next\r\n",
        "          self.size -=1\r\n",
        "          return True\r\n",
        "        elif node.next == self.head:\r\n",
        "          return False\r\n",
        "          \r\n",
        "      \r\n",
        "      previous = node\r\n",
        "      node = node.next\r\n",
        "  \r\n",
        "    "
      ],
      "execution_count": null,
      "outputs": []
    },
    {
      "cell_type": "code",
      "metadata": {
        "id": "6--bGgOFYEAl"
      },
      "source": [
        "lista=linked_list_circular()\r\n",
        "lista.insertar(c1)\r\n",
        "lista.insertar(c2)\r\n",
        "lista.insertar(c3)\r\n",
        "lista.insertar(c4)"
      ],
      "execution_count": null,
      "outputs": []
    },
    {
      "cell_type": "markdown",
      "metadata": {
        "id": "PqY5RV2pjxET"
      },
      "source": [
        "**Lista doblemente enlazada**"
      ]
    },
    {
      "cell_type": "code",
      "metadata": {
        "id": "UGmqd-YpjwH8"
      },
      "source": [
        "class node_de:\r\n",
        "  def __init__(self, cliente = None, next=None, previous = None):\r\n",
        "    self.head = head\r\n",
        "    self.last = head\r\n",
        "    self.size=0\r\n",
        "\r\n",
        "    def insertar(self,cliente):\r\n",
        "      if self.size ==0:\r\n",
        "        self.head=node_de(cliente=cliente)\r\n",
        "        self.last = self.head\r\n",
        "      else:\r\n",
        "        new_node = node_de(cliente = cliente, next=self.head)\r\n",
        "        self.head.previous = new_node\r\n",
        "        self.head = new_node\r\n",
        "      self.size+=1\r\n",
        "\r\n",
        "    def imprimir (self):\r\n",
        "      if self.head is None:\r\n",
        "        return\r\n",
        "      node = self.head\r\n",
        "      print(node.cliente.nombre, end= \" => \")\r\n",
        "      while node.next:\r\n",
        "        node = node.next\r\n",
        "        print(node.cliente.nombre, end = \" => \")\r\n",
        "\r\n",
        "    def eliminar(self,no_habitacion):\r\n",
        "      node = self.head\r\n",
        "      while node is not None:\r\n",
        "        if node.cliente.no_habitacion == no_habitacion:\r\n",
        "          if node.previous is not None:\r\n",
        "            if node.next:\r\n",
        "              node.previous.next = node.next\r\n",
        "              node.next.previous = node.previous\r\n",
        "            else:\r\n",
        "              node.previous.next = None\r\n",
        "              self.last = node.previous\r\n",
        "          else:\r\n",
        "            self.head = node.next\r\n",
        "            node.next.previous = self.head\r\n",
        "          self.size -= 1\r\n",
        "          return True\r\n",
        "        else:\r\n",
        "          node = node.next\r\n",
        "      return False"
      ],
      "execution_count": null,
      "outputs": []
    },
    {
      "cell_type": "code",
      "metadata": {
        "id": "VsBUsviNcyHf"
      },
      "source": [
        "class Pila:\r\n",
        "  def __init__(self):\r\n",
        "    self.pila = []\r\n",
        "\r\n",
        "  def apilar (self, cliente):\r\n",
        "    self.pila.append(cliente)\r\n",
        "\r\n",
        "  def devolver_tamano(self):\r\n",
        "    return len(self.pila)\r\n",
        "  \r\n",
        "  def imprimir (self):\r\n",
        "    for elemento in self.pila:\r\n",
        "      print (elemento.nombre, end = \" => \")\r\n",
        "  \r\n",
        "  def desapilar (self):\r\n",
        "    if self.pila:\r\n",
        "      self.pila.pop()"
      ],
      "execution_count": 14,
      "outputs": []
    },
    {
      "cell_type": "code",
      "metadata": {
        "id": "ngvFIKtkdq1-"
      },
      "source": [
        "c1 = cliente(\"Estuardo Zapeta\",101)\r\n",
        "c2 = cliente (\"Marco López\",103)"
      ],
      "execution_count": 16,
      "outputs": []
    },
    {
      "cell_type": "code",
      "metadata": {
        "id": "yaJeZtUre9V9"
      },
      "source": [
        "p = Pila()\r\n",
        "p.apilar(c1)\r\n",
        "p.apilar(c2)"
      ],
      "execution_count": 22,
      "outputs": []
    },
    {
      "cell_type": "code",
      "metadata": {
        "id": "s1E8ErJtfz1m"
      },
      "source": [
        "p.imprimir()"
      ],
      "execution_count": 27,
      "outputs": []
    },
    {
      "cell_type": "code",
      "metadata": {
        "id": "_5G8WvSwgdCj"
      },
      "source": [
        "p.desapilar()"
      ],
      "execution_count": 26,
      "outputs": []
    },
    {
      "cell_type": "markdown",
      "metadata": {
        "id": "mp6PCxWZg8SV"
      },
      "source": [
        "COLAS"
      ]
    },
    {
      "cell_type": "code",
      "metadata": {
        "id": "8L2r5m7Bg_od"
      },
      "source": [
        "class Cola:\r\n",
        "  def __init__(self):\r\n",
        "    self.cola = []\r\n",
        "\r\n",
        "  def encolar(self, cliente):\r\n",
        "    self.cola.append(cliente)\r\n",
        "\r\n",
        "  def devolver_tamano(self):\r\n",
        "    return len (self.cola)\r\n",
        "  \r\n",
        "  def imprimir(self):\r\n",
        "    for elemento in self.cola:\r\n",
        "      print(elemento.nombre, end = \" <= \")\r\n",
        "    \r\n",
        "  def desencolar(self):\r\n",
        "    if self.cola:\r\n",
        "      self.cola.pop(0)\r\n",
        "      \r\n"
      ],
      "execution_count": null,
      "outputs": []
    },
    {
      "cell_type": "code",
      "metadata": {
        "id": "SkDowboKjCsO"
      },
      "source": [
        "c1 = cliente(\"Estuardo Zapeta\",101)\r\n",
        "c2 = cliente (\"Marco López\",103)"
      ],
      "execution_count": null,
      "outputs": []
    },
    {
      "cell_type": "code",
      "metadata": {
        "id": "Zq7_67EJjD38"
      },
      "source": [
        "c = Cola()\r\n",
        "c.encolar(c1)\r\n",
        "c.encolar(c2)\r\n"
      ],
      "execution_count": null,
      "outputs": []
    },
    {
      "cell_type": "code",
      "metadata": {
        "id": "Tb8Ijfn8jKO8"
      },
      "source": [
        "c.devolver_tamano()"
      ],
      "execution_count": null,
      "outputs": []
    },
    {
      "cell_type": "code",
      "metadata": {
        "id": "jBBg8yXekBcd"
      },
      "source": [
        "c.desencolar()"
      ],
      "execution_count": null,
      "outputs": []
    }
  ]
}